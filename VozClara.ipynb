{
  "nbformat": 4,
  "nbformat_minor": 0,
  "metadata": {
    "colab": {
      "provenance": [],
      "authorship_tag": "ABX9TyPLDD067iMcER9KGajjCSfl",
      "include_colab_link": true
    },
    "kernelspec": {
      "name": "python3",
      "display_name": "Python 3"
    },
    "language_info": {
      "name": "python"
    }
  },
  "cells": [
    {
      "cell_type": "markdown",
      "metadata": {
        "id": "view-in-github",
        "colab_type": "text"
      },
      "source": [
        "<a href=\"https://colab.research.google.com/github/Melo-Luisa/VozClara/blob/main/VozClara.ipynb\" target=\"_parent\"><img src=\"https://colab.research.google.com/assets/colab-badge.svg\" alt=\"Open In Colab\"/></a>"
      ]
    },
    {
      "cell_type": "markdown",
      "source": [
        "# Projeto VozCLara\n",
        "**Objetivo:** é um projeto da **Imersão da Alura + Google** que visa promover a inclusão e a acessibilidade através da conversão de texto em áudio.\n",
        "\n",
        "Teste você também! 🙂\n"
      ],
      "metadata": {
        "id": "cz9j7Px6QcNP"
      }
    },
    {
      "cell_type": "code",
      "source": [
        "!pip install -q -U google-generativeai"
      ],
      "metadata": {
        "id": "g7S8oQ26O7rd"
      },
      "execution_count": 30,
      "outputs": []
    },
    {
      "cell_type": "code",
      "source": [
        "import google.generativeai as genai\n",
        "from google.colab import userdata\n",
        "api_key = userdata.get('SECRET_KEY')\n",
        "\n",
        "genai.configure(api_key=api_key)"
      ],
      "metadata": {
        "id": "CrKda2qeO-09"
      },
      "execution_count": 31,
      "outputs": []
    },
    {
      "cell_type": "code",
      "source": [
        "config_gerais = {\n",
        "    \"candidate_count\" :1,\n",
        "    \"temperature\": 0.75,\n",
        "}"
      ],
      "metadata": {
        "id": "3QbWS4JXPBBL"
      },
      "execution_count": 32,
      "outputs": []
    },
    {
      "cell_type": "code",
      "source": [
        "config_segu = {\n",
        "    \"HARASSMENT\": \"BLOCK_NONE\",\n",
        "    \"HATE\": \"BLOCK_NONE\",\n",
        "    \"SEXUAL\": \"BLOCK_NONE\",\n",
        "    \"DANGEROUS\": \"BLOCK_NONE\"\n",
        "\n",
        "}"
      ],
      "metadata": {
        "id": "fMhqlEIVPCo-"
      },
      "execution_count": 33,
      "outputs": []
    },
    {
      "cell_type": "code",
      "source": [
        "model = genai.GenerativeModel(model_name=\"gemini-1.0-pro\",\n",
        "                              generation_config=config_gerais,\n",
        "                              safety_settings=config_segu)"
      ],
      "metadata": {
        "id": "3dfMVzxgPFE-"
      },
      "execution_count": 34,
      "outputs": []
    },
    {
      "cell_type": "code",
      "source": [
        "chat = model.start_chat(history=[])"
      ],
      "metadata": {
        "id": "HGJz1O99PIMw"
      },
      "execution_count": 35,
      "outputs": []
    },
    {
      "cell_type": "code",
      "source": [
        "# Importa as bibliotecas\n",
        "import gtts\n",
        "from IPython.display import Audio\n",
        "\n",
        "# Função para converter texto em fala e reproduzir o áudio\n",
        "def falar_texto(texto):\n",
        "  # Define o idioma como português\n",
        "  linguagem = 'pt-BR'\n",
        "\n",
        "  # Cria o objeto falante\n",
        "  fala = gtts.gTTS(text=texto, lang=linguagem)\n",
        "\n",
        "  # Salva o áudio em um arquivo temporário\n",
        "  arquivo_audio = f\"audio-{hash(texto)}.mp3\"\n",
        "  fala.save(arquivo_audio)\n",
        "\n",
        "  # Reproduz o áudio\n",
        "  display(Audio(arquivo_audio))\n",
        "\n",
        "# Inicia o chat\n",
        "chat = model.start_chat(history=[])\n",
        "\n",
        "prompt = input(\"Esperando prompt: \")\n",
        "\n",
        "while prompt != \"fim\":\n",
        "  # Envia o prompt para o modelo\n",
        "  response = chat.send_message(prompt)\n",
        "\n",
        "  # Converte o texto da resposta em fala e reproduz o áudio\n",
        "  falar_texto(response.text)\n",
        "\n",
        "  # Solicita o próximo prompt\n",
        "  prompt = input(\"Esperando prompt: \")\n"
      ],
      "metadata": {
        "id": "ilxqco1tPNUn"
      },
      "execution_count": null,
      "outputs": []
    }
  ]
}